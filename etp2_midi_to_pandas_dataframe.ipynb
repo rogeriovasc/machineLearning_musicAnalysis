{
 "cells": [
  {
   "cell_type": "markdown",
   "id": "03308311",
   "metadata": {},
   "source": [
    "# Criação da tabela (Pandas DataFrame) com os dados da partitura"
   ]
  },
  {
   "cell_type": "markdown",
   "id": "920f4b39",
   "metadata": {},
   "source": [
    "## Conversão de dados midi em uma tabela"
   ]
  },
  {
   "cell_type": "markdown",
   "id": "92c04d55",
   "metadata": {},
   "source": [
    "Um patch no programa *OpenMusic* (__http://repmus.ircam.fr/openmusic/home__) permitiu a extração dos primeiros dados do arquivo mid gerado no *Lilypond*, relacionados a alturas, onsets (tempo de início dos eventos) e durações dos eventos."
   ]
  },
  {
   "attachments": {
    "etp2_fig1.png": {
     "image/png": "[encoded data removed]"
    }
   },
   "cell_type": "markdown",
   "id": "1093d662",
   "metadata": {},
   "source": [
    "![etp2_fig1.png](attachment:etp2_fig1.png)"
   ]
  },
  {
   "cell_type": "markdown",
   "id": "c72fbb49",
   "metadata": {},
   "source": [
    "A caixa na parte inferior da figura acima (objeto *Chordseq*) apresenta diversas saídas (círculos azuis na parte inferior) de onde podem ser extraídas as informações de alturas (lista de números midi associados às notas da partitura), onsets e durações (em milisegundos). Esses dados precisaram ser convertidos de *Lisp* (linguagem utilizada pelo software *OpenMusic*, ou *OM*) para *Python*."
   ]
  },
  {
   "cell_type": "markdown",
   "id": "74ea336a",
   "metadata": {},
   "source": [
    "## Códigos Python"
   ]
  },
  {
   "cell_type": "code",
   "execution_count": 2,
   "id": "88361a56",
   "metadata": {},
   "outputs": [],
   "source": [
    "import ast\n",
    "\n",
    "### take data from OM chord-seq and translate into Python lists\n",
    "\n",
    "OM_pitches = \"((9000) (6600) (6600) (7400) (6600) (6800) (7100) (6900) (7200) (9500) (8800) (5400) (6400) (7200) (5600) (5800) (6800) (7900) (7600) (7400) (7100) (6900) (6500) (6800) (6600) (6300) (6500) (6800) (8800) (7100) (7100 6800 5900) (5800) (7400) (7100) (9000) (6700 6600 5700) (7800) (7700) (6700 6600 6200) (5900) (6100) (6600) (7400 7300) (9100) (7100 6300 5700 5400) (6600) (6900) (6700) (6600) (8800) (5800 5300) (8500) (7800) (7700) (6200) (6300) (7300) (6800) (6600) (6700) (5800) (6800) (7100) (6700) (6700) (6900) (7100) (6300) (9200) (7600) (6500) (7900) (9500) (6900) (6800) (6500) (6000) (7300 6200 6000) (6700) (6200 5900) (7600) (7200 6600 5900) (6500) (6300 6200 5700) (9000) (6600) (6500) (6700) (6900) (7900) (6200) (6600) (5200) (7100) (6300) (7200) (5700) (7600 7100 6900 6200 5800 5400) (5800) (7400) (7500 7100 6400) (7600) (8500) (8000) (7900) (7600) (7900) (7600 7300 7100) (8100 7300 6600) (7100 6500) (7600 6700 6200) (7200 6800) (5600) (6700) (8200) (6600) (6900) (8000) (8600) (8500) (7000) (7700) (8400) (7900) (7200) (8000) (8300) (10000) (8300) (8200) (7900) (8100) (7800) (7100) (7300) (7400) (7500) (7900) (7800) (8400) (6200 5800 5500) (8300) (7600 7100 5700) (6600) (8700) (8800) (8500) (8400) (8200) (6700) (7300) (8300) (8400) (8100) (6700) (5800) (5700) (7300) (7700) (6800) (6700) (5900) (7400 6400 6100) (6700) (6800) (7000) (6900) (6200) (7100) (7700) (8200) (7500) (8400) (9000) (8900) (9200) (9100) (8200) (7300) (6900) (6500) (7300) (7100) (5400) (5600) (6200) (5400) (6500) (5900) (7100) (6200) (7600) (7600) (7600) (7600) (7300) (7900) (6300) (6200) (6600) (8400) (8800) (7100 6900 6200 5800 5400) (7600) (6600) (6500) (6700) (6800) (6600) (6800) (7100) (6400) (9300) (6800) (5800) (6200) (6200) (6200) (6200) (7900) (8800) (9000) (5700) (7800) (7300) (6200) (9500) (7400) (5800) (6100) (6900) (7700) (7000) (8000) (5700) (7200) (6600) (7300 6900 6200 5900) (7800) (8600) (8300) (6500) (6000) (6900) (6200) (7200) (7300) (8400) (6900) (6300) (8400) (6900) (8000) (8500 7500 7100 6200) (7400 6800 6300) (7100 6800 6700 5700) (7400 6400 6100) (8600) (7900) (8000) (8200) (6900) (9500) (6600) (6500) (7900) (7100 5100 5900 5600) (8800))\"\n",
    "\n",
    "OM_onsets = \"(0 616 1548 4432 6818 6960 7111 7250 7400 7841 8764 8954 9057 9153 10085 10318 10554 10909 11088 11270 11449 11591 11724 11861 11997 12216 12321 12435 13812 14261 15270 16364 16463 16569 17486 17634 18480 18623 18765 18907 19034 20526 20819 21137 21435 22236 22435 22842 23040 23182 23387 24887 25043 25177 25313 25447 25574 25711 25847 25981 26114 26251 26362 26720 26866 27004 27293 27675 28751 29109 29307 29609 29914 30175 30359 30532 30713 31251 31616 31987 32362 33126 33751 34029 36546 36807 37171 37546 38942 39584 39844 40365 40886 41032 41181 41327 41469 43508 48751 48901 49351 49551 50919 52751 52951 53151 54168 54793 55731 56043 56456 56876 57293 57431 57569 57706 57843 57981 58539 58751 59163 59289 59413 59789 60038 60788 61138 61351 61926 62018 62118 62213 62306 62501 62581 62663 62751 62831 62913 63076 63269 63656 63851 64039 64393 64481 64563 64643 64726 64806 64906 65006 65106 65206 65388 65513 65643 65768 65901 66026 66156 66281 67693 68851 68913 68981 69251 69376 69493 69618 69863 69976 70089 70201 70469 70876 70976 71076 71176 71276 71381 71481 71581 72001 72113 72226 72338 72451 72563 72676 72788 72901 73101 73301 73506 73706 74926 75531 76138 76406 76676 76951 77093 78221 78249 78335 78420 78505 79982 80133 80275 80465 81190 81283 81610 81724 81951 82179 82477 83599 83832 84173 84991 85196 85403 85608 85943 92258 98542 98826 99403 99665 101008 101625 102861 104480 104693 105304 106591 106852 107108 108137 108477 108656 108802 108951 109100 109541 109698 109993 110437 111868 112180 112225 112937 113656 115948 116295 116989 117406 118239 119073 121896 122962 123240 126625 127649 129663 131666)\"\n",
    "\n",
    "OM_durations = \"((4432) (307) (304) (3940) (142) (142) (139) (145) (142) (5971) (5497) (94) (91) (932) (227) (230) (227) (179) (176) (179) (133) (133) (137) (136) (105) (105) (108) (108) (3220) (5603) (361 361 361) (99) (100) (99) (3645) (846 846 846) (134) (133) (133 133 133) (119) (120) (284) (312 312) (1818) (796 796 796 796) (199) (199) (198) (199) (5569) (151 151) (4697) (128) (128) (128) (127) (128) (128) (125) (128) (128) (111) (115) (139) (138) (282) (139) (468) (10191) (198) (302) (201) (2337) (173) (173) (170) (173) (365 365 365) (364) (365 365) (556) (625 625 625) (139) (555 555 555) (5944) (364) (365) (361) (424) (2917) (261) (261) (139) (139) (139) (142) (139) (4357 4357 4357 4357 4357 4357) (150) (150) (3200 3200 3200) (1368) (10712) (200) (200) (200) (308) (933 933 933) (308 308 308) (413 413) (413 413 413) (205 205) (138) (138) (137) (137) (138) (137) (204) (205) (118) (117) (118) (242) (743) (243) (100) (1918) (92) (95) (95) (93) (95) (80) (82) (80) (80) (82) (80) (187) (187 187 187) (4945) (188 188 188) (187) (83) (82) (80) (83) (80) (95) (95) (95) (95) (95) (125) (126) (125) (125) (125) (125) (125) (125) (1150 1150 1150) (62) (63) (62) (117) (117) (120) (120) (113) (113) (112) (268) (269) (100) (100) (100) (100) (100) (100) (100) (100) (112) (113) (112) (113) (112) (113) (112) (113) (200) (200) (200) (200) (200) (200) (200) (268) (270) (267) (2634) (142 142 142 142 142) (562) (86) (85) (85) (85) (142) (142) (142) (3367) (2983) (319) (108) (227) (228) (298) (298) (341) (1847) (8085) (199) (198) (199) (198) (1846) (9651) (284) (577) (253) (1343) (608) (1079) (1619) (213) (605) (776 776 776 776) (253) (256) (1029) (173) (171) (146) (149) (149) (146) (146) (145) (295) (1424) (173) (11980) (355 355 355 355) (354 354 354) (354 354 354 354) (1041 1041 1041) (5601) (417) (833) (834) (3698) (2253) (278) (277) (4295) (684 684 684 684) (2003))\"\n",
    "\n",
    "def om_lst(str_data):\n",
    "    # trocar () por []; \" \" por \", \"\n",
    "    chars1 = [\"(\", \")\", \" \"]\n",
    "    chars2 = [\"[\", \"]\", \", \"]\n",
    "    s = str_data\n",
    "    for i,j in zip(chars1, chars2):\n",
    "        s = s.replace(i, j)\n",
    "    return s\n",
    "\n",
    "\n",
    "midicents = om_lst(OM_pitches)\n",
    "midicents_lst = ast.literal_eval(midicents)\n",
    "temp_lst = []\n",
    "for i in midicents_lst:\n",
    "    temp = []\n",
    "    for j in i:\n",
    "        n = int(j/100)\n",
    "        temp.append(n)\n",
    "    temp_lst.append(temp)\n",
    "pitches_lst = temp_lst  # midi normal, sem midicents\n",
    "\n",
    "onsets = om_lst(OM_onsets)\n",
    "onsets_lst = ast.literal_eval(onsets)\n",
    "onsets_lst = onsets_lst[:-1]    # suprimir o último valor que se refere à duração total\n",
    "\n",
    "durations = om_lst(OM_durations)\n",
    "durations_lst = ast.literal_eval(durations)\n",
    "durations_lst = [i[0] for i in durations_lst] # considerar idênticas as durações das notas do mesmo acorde\n"
   ]
  },
  {
   "cell_type": "markdown",
   "id": "c8d2e77c",
   "metadata": {},
   "source": [
    "Em seguida, esses dados foram inseridos em um pandas DataFrame."
   ]
  },
  {
   "cell_type": "code",
   "execution_count": 3,
   "id": "813ccf5d",
   "metadata": {},
   "outputs": [],
   "source": [
    "import pandas as pd\n",
    "import numpy as np\n",
    "import matplotlib.pyplot as plt\n",
    "\n",
    "dict = {'pitches': pitches_lst, 'onsets': onsets_lst, 'durations': durations_lst}\n",
    "\n",
    "df = pd.DataFrame(dict)"
   ]
  },
  {
   "cell_type": "code",
   "execution_count": 4,
   "id": "dba36ef1",
   "metadata": {},
   "outputs": [
    {
     "data": {
      "text/html": [
       "<div>\n",
       "<style scoped>\n",
       "    .dataframe tbody tr th:only-of-type {\n",
       "        vertical-align: middle;\n",
       "    }\n",
       "\n",
       "    .dataframe tbody tr th {\n",
       "        vertical-align: top;\n",
       "    }\n",
       "\n",
       "    .dataframe thead th {\n",
       "        text-align: right;\n",
       "    }\n",
       "</style>\n",
       "<table border=\"1\" class=\"dataframe\">\n",
       "  <thead>\n",
       "    <tr style=\"text-align: right;\">\n",
       "      <th></th>\n",
       "      <th>pitches</th>\n",
       "      <th>onsets</th>\n",
       "      <th>durations</th>\n",
       "    </tr>\n",
       "  </thead>\n",
       "  <tbody>\n",
       "    <tr>\n",
       "      <th>0</th>\n",
       "      <td>[90]</td>\n",
       "      <td>0</td>\n",
       "      <td>4432</td>\n",
       "    </tr>\n",
       "    <tr>\n",
       "      <th>1</th>\n",
       "      <td>[66]</td>\n",
       "      <td>616</td>\n",
       "      <td>307</td>\n",
       "    </tr>\n",
       "    <tr>\n",
       "      <th>2</th>\n",
       "      <td>[66]</td>\n",
       "      <td>1548</td>\n",
       "      <td>304</td>\n",
       "    </tr>\n",
       "    <tr>\n",
       "      <th>3</th>\n",
       "      <td>[74]</td>\n",
       "      <td>4432</td>\n",
       "      <td>3940</td>\n",
       "    </tr>\n",
       "    <tr>\n",
       "      <th>4</th>\n",
       "      <td>[66]</td>\n",
       "      <td>6818</td>\n",
       "      <td>142</td>\n",
       "    </tr>\n",
       "  </tbody>\n",
       "</table>\n",
       "</div>"
      ],
      "text/plain": [
       "  pitches  onsets  durations\n",
       "0    [90]       0       4432\n",
       "1    [66]     616        307\n",
       "2    [66]    1548        304\n",
       "3    [74]    4432       3940\n",
       "4    [66]    6818        142"
      ]
     },
     "execution_count": 4,
     "metadata": {},
     "output_type": "execute_result"
    }
   ],
   "source": [
    "df.head()"
   ]
  },
  {
   "cell_type": "markdown",
   "id": "8d24d9a0",
   "metadata": {},
   "source": [
    "Como pode ser observado no início da tabela acima, as informações de alturas se econtram na coluna *pitches*. Cada evento extraído do objeto *Chordseq* é considerado um acorde - mesmo se são sons isolados -, por isso os colchetes. No caso de acordes com mais notas, essa forma de representar os dados fica interessante, porque para um grupo de notas temos apenas um valor de onset e duration. Por exemplo, a linha 30 da tabela tem os seguintes valores:"
   ]
  },
  {
   "cell_type": "code",
   "execution_count": 5,
   "id": "0ca78abb",
   "metadata": {},
   "outputs": [
    {
     "data": {
      "text/plain": [
       "pitches      [71, 68, 59]\n",
       "onsets              15270\n",
       "durations             361\n",
       "Name: 30, dtype: object"
      ]
     },
     "execution_count": 5,
     "metadata": {},
     "output_type": "execute_result"
    }
   ],
   "source": [
    "df.loc[30]"
   ]
  },
  {
   "cell_type": "markdown",
   "id": "843c2657",
   "metadata": {},
   "source": [
    "## Completando a tabela com mais informações"
   ]
  },
  {
   "cell_type": "markdown",
   "id": "d661b278",
   "metadata": {},
   "source": [
    "Há diversas informações que adicionamos à tabela (novas colunas) para permitir a elaboração de algoritmos de segmentação automática e avaliação de similaridade/contraste entre os segmentos. Na sequência apresentamos os códigos que permitiram ampliar a tabela."
   ]
  },
  {
   "cell_type": "markdown",
   "id": "003a982a",
   "metadata": {},
   "source": [
    "A primeira coluna acrescentada indicava os nomes da notas e oitava (considerando a oitava central como 4), uma vez que isso facilitava a localização/identificação dos eventos."
   ]
  },
  {
   "cell_type": "code",
   "execution_count": 7,
   "id": "d7a6e325",
   "metadata": {},
   "outputs": [],
   "source": [
    "def mid_name(mid_number, central_octave=4):\n",
    "    'converte nota midi ou lista de notas midi em nomes. Ex: 66 => f#4 // arguments => numbers or list of numbers'\n",
    "    if type(mid_number) == int:\n",
    "        pc = mid_number % 12\n",
    "        x = 5 - central_octave\n",
    "        oct = (mid_number // 12) - x\n",
    "        dict = {0:'c', 1:'c#', 2:'d', 3:'ef', 4:'e', 5:'f', 6:'f#', 7:'g', 8:'g#', 9:'a', 10:'bf', 11:'b'}\n",
    "        name = dict[pc] + str(oct)\n",
    "        return name\n",
    "    elif type(mid_number) == list:\n",
    "        names = []\n",
    "        for i in mid_number:\n",
    "            pc = i % 12\n",
    "            x = 5 - central_octave\n",
    "            oct = (i // 12) - x\n",
    "            dict = {0:'c', 1:'c#', 2:'d', 3:'ef', 4:'e', 5:'f', 6:'f#', 7:'g', 8:'g#', 9:'a', 10:'bf', 11:'b'}\n",
    "            name = dict[pc] + str(oct)\n",
    "            names.append(name)\n",
    "        return names"
   ]
  },
  {
   "cell_type": "code",
   "execution_count": 8,
   "id": "50682858",
   "metadata": {},
   "outputs": [
    {
     "data": {
      "text/html": [
       "<div>\n",
       "<style scoped>\n",
       "    .dataframe tbody tr th:only-of-type {\n",
       "        vertical-align: middle;\n",
       "    }\n",
       "\n",
       "    .dataframe tbody tr th {\n",
       "        vertical-align: top;\n",
       "    }\n",
       "\n",
       "    .dataframe thead th {\n",
       "        text-align: right;\n",
       "    }\n",
       "</style>\n",
       "<table border=\"1\" class=\"dataframe\">\n",
       "  <thead>\n",
       "    <tr style=\"text-align: right;\">\n",
       "      <th></th>\n",
       "      <th>pitches</th>\n",
       "      <th>onsets</th>\n",
       "      <th>durations</th>\n",
       "      <th>notes</th>\n",
       "    </tr>\n",
       "  </thead>\n",
       "  <tbody>\n",
       "    <tr>\n",
       "      <th>0</th>\n",
       "      <td>[90]</td>\n",
       "      <td>0</td>\n",
       "      <td>4432</td>\n",
       "      <td>[f#6]</td>\n",
       "    </tr>\n",
       "    <tr>\n",
       "      <th>1</th>\n",
       "      <td>[66]</td>\n",
       "      <td>616</td>\n",
       "      <td>307</td>\n",
       "      <td>[f#4]</td>\n",
       "    </tr>\n",
       "    <tr>\n",
       "      <th>2</th>\n",
       "      <td>[66]</td>\n",
       "      <td>1548</td>\n",
       "      <td>304</td>\n",
       "      <td>[f#4]</td>\n",
       "    </tr>\n",
       "    <tr>\n",
       "      <th>3</th>\n",
       "      <td>[74]</td>\n",
       "      <td>4432</td>\n",
       "      <td>3940</td>\n",
       "      <td>[d5]</td>\n",
       "    </tr>\n",
       "    <tr>\n",
       "      <th>4</th>\n",
       "      <td>[66]</td>\n",
       "      <td>6818</td>\n",
       "      <td>142</td>\n",
       "      <td>[f#4]</td>\n",
       "    </tr>\n",
       "  </tbody>\n",
       "</table>\n",
       "</div>"
      ],
      "text/plain": [
       "  pitches  onsets  durations  notes\n",
       "0    [90]       0       4432  [f#6]\n",
       "1    [66]     616        307  [f#4]\n",
       "2    [66]    1548        304  [f#4]\n",
       "3    [74]    4432       3940   [d5]\n",
       "4    [66]    6818        142  [f#4]"
      ]
     },
     "execution_count": 8,
     "metadata": {},
     "output_type": "execute_result"
    }
   ],
   "source": [
    "# criar coluna com nomes de notas\n",
    "df['notes'] = df.pitches.apply(mid_name)\n",
    "df.head()"
   ]
  },
  {
   "cell_type": "markdown",
   "id": "8f8f83ba",
   "metadata": {},
   "source": [
    "A próxima coluna acrescentada indica a que pauta da partitura o evento está associado."
   ]
  },
  {
   "cell_type": "code",
   "execution_count": 9,
   "id": "949c22c8",
   "metadata": {},
   "outputs": [
    {
     "data": {
      "text/html": [
       "<div>\n",
       "<style scoped>\n",
       "    .dataframe tbody tr th:only-of-type {\n",
       "        vertical-align: middle;\n",
       "    }\n",
       "\n",
       "    .dataframe tbody tr th {\n",
       "        vertical-align: top;\n",
       "    }\n",
       "\n",
       "    .dataframe thead th {\n",
       "        text-align: right;\n",
       "    }\n",
       "</style>\n",
       "<table border=\"1\" class=\"dataframe\">\n",
       "  <thead>\n",
       "    <tr style=\"text-align: right;\">\n",
       "      <th></th>\n",
       "      <th>pitches</th>\n",
       "      <th>onsets</th>\n",
       "      <th>durations</th>\n",
       "      <th>notes</th>\n",
       "      <th>staff_id</th>\n",
       "    </tr>\n",
       "  </thead>\n",
       "  <tbody>\n",
       "    <tr>\n",
       "      <th>0</th>\n",
       "      <td>[90]</td>\n",
       "      <td>0</td>\n",
       "      <td>4432</td>\n",
       "      <td>[f#6]</td>\n",
       "      <td>center</td>\n",
       "    </tr>\n",
       "    <tr>\n",
       "      <th>1</th>\n",
       "      <td>[66]</td>\n",
       "      <td>616</td>\n",
       "      <td>307</td>\n",
       "      <td>[f#4]</td>\n",
       "      <td>down</td>\n",
       "    </tr>\n",
       "    <tr>\n",
       "      <th>2</th>\n",
       "      <td>[66]</td>\n",
       "      <td>1548</td>\n",
       "      <td>304</td>\n",
       "      <td>[f#4]</td>\n",
       "      <td>down</td>\n",
       "    </tr>\n",
       "    <tr>\n",
       "      <th>3</th>\n",
       "      <td>[74]</td>\n",
       "      <td>4432</td>\n",
       "      <td>3940</td>\n",
       "      <td>[d5]</td>\n",
       "      <td>center</td>\n",
       "    </tr>\n",
       "    <tr>\n",
       "      <th>4</th>\n",
       "      <td>[66]</td>\n",
       "      <td>6818</td>\n",
       "      <td>142</td>\n",
       "      <td>[f#4]</td>\n",
       "      <td>down</td>\n",
       "    </tr>\n",
       "  </tbody>\n",
       "</table>\n",
       "</div>"
      ],
      "text/plain": [
       "  pitches  onsets  durations  notes staff_id\n",
       "0    [90]       0       4432  [f#6]   center\n",
       "1    [66]     616        307  [f#4]     down\n",
       "2    [66]    1548        304  [f#4]     down\n",
       "3    [74]    4432       3940   [d5]   center\n",
       "4    [66]    6818        142  [f#4]     down"
      ]
     },
     "execution_count": 9,
     "metadata": {},
     "output_type": "execute_result"
    }
   ],
   "source": [
    "## column with staff id ['up', 'center', 'down'] \n",
    "staff1_idx = [9,28,34,43,51,72,84,127,201,211,220,226,257,262,267]\n",
    "staff2_idx = [0,3,10,29,49,68,88,89,101,102,141,203,212,221,227,252,265]\n",
    "\n",
    "df['staff_id'] = ['down']*268\n",
    "df.loc[staff1_idx, 'staff_id'] = 'up'\n",
    "df.loc[staff2_idx, 'staff_id'] = 'center'\n",
    "\n",
    "df.head()"
   ]
  },
  {
   "cell_type": "markdown",
   "id": "c446f37b",
   "metadata": {},
   "source": [
    "Na sequência, acrescentar uma coluna com a corda do violão usada em cada nota. Isso é importante, porque a afinação microtonal das cordas implica em sons diferentes para a mesma nota em cordas diferentes. Embora muitas vezes a partitura indique a corda destinada, há algumas passagens onde isso fica sob responsabilidade do intérprete. Assim, essa escolha implica em uma camada a mais no processo de diferenciação do material harmônico. Sobre esse ponto, acreditamos que a maior parte das definições de Ferneyhough apoiou-se em um material temperado, mas prevendo um processo de diferenciação microtonal posterior não completamente controlado/fixo."
   ]
  },
  {
   "cell_type": "code",
   "execution_count": 10,
   "id": "72fde6a8",
   "metadata": {},
   "outputs": [
    {
     "data": {
      "text/html": [
       "<div>\n",
       "<style scoped>\n",
       "    .dataframe tbody tr th:only-of-type {\n",
       "        vertical-align: middle;\n",
       "    }\n",
       "\n",
       "    .dataframe tbody tr th {\n",
       "        vertical-align: top;\n",
       "    }\n",
       "\n",
       "    .dataframe thead th {\n",
       "        text-align: right;\n",
       "    }\n",
       "</style>\n",
       "<table border=\"1\" class=\"dataframe\">\n",
       "  <thead>\n",
       "    <tr style=\"text-align: right;\">\n",
       "      <th></th>\n",
       "      <th>pitches</th>\n",
       "      <th>onsets</th>\n",
       "      <th>durations</th>\n",
       "      <th>notes</th>\n",
       "      <th>staff_id</th>\n",
       "      <th>string</th>\n",
       "    </tr>\n",
       "  </thead>\n",
       "  <tbody>\n",
       "    <tr>\n",
       "      <th>0</th>\n",
       "      <td>[90]</td>\n",
       "      <td>0</td>\n",
       "      <td>4432</td>\n",
       "      <td>[f#6]</td>\n",
       "      <td>center</td>\n",
       "      <td>[4]</td>\n",
       "    </tr>\n",
       "    <tr>\n",
       "      <th>1</th>\n",
       "      <td>[66]</td>\n",
       "      <td>616</td>\n",
       "      <td>307</td>\n",
       "      <td>[f#4]</td>\n",
       "      <td>down</td>\n",
       "      <td>[5]</td>\n",
       "    </tr>\n",
       "    <tr>\n",
       "      <th>2</th>\n",
       "      <td>[66]</td>\n",
       "      <td>1548</td>\n",
       "      <td>304</td>\n",
       "      <td>[f#4]</td>\n",
       "      <td>down</td>\n",
       "      <td>[5]</td>\n",
       "    </tr>\n",
       "    <tr>\n",
       "      <th>3</th>\n",
       "      <td>[74]</td>\n",
       "      <td>4432</td>\n",
       "      <td>3940</td>\n",
       "      <td>[d5]</td>\n",
       "      <td>center</td>\n",
       "      <td>[4]</td>\n",
       "    </tr>\n",
       "    <tr>\n",
       "      <th>4</th>\n",
       "      <td>[66]</td>\n",
       "      <td>6818</td>\n",
       "      <td>142</td>\n",
       "      <td>[f#4]</td>\n",
       "      <td>down</td>\n",
       "      <td>[5]</td>\n",
       "    </tr>\n",
       "  </tbody>\n",
       "</table>\n",
       "</div>"
      ],
      "text/plain": [
       "  pitches  onsets  durations  notes staff_id string\n",
       "0    [90]       0       4432  [f#6]   center    [4]\n",
       "1    [66]     616        307  [f#4]     down    [5]\n",
       "2    [66]    1548        304  [f#4]     down    [5]\n",
       "3    [74]    4432       3940   [d5]   center    [4]\n",
       "4    [66]    6818        142  [f#4]     down    [5]"
      ]
     },
     "execution_count": 10,
     "metadata": {},
     "output_type": "execute_result"
    }
   ],
   "source": [
    "## cordas por sistema (todas as pautas)\n",
    "string_number = [[4], [5], [5], [4], [5], [5], [2], [3], [3], [1], [5], [6], [4], [3], [6], [5], [3], \n",
    "[3], [3], [3], [4], [4], [4], [4], [4], [4], [4], [3], [1], [6], [2,3,5], [5], [2], [2], [2], [3,4,5], [1], [1], [3,4,5], [5], [5], [5], [3,4],\n",
    "[3], [2,4,5,6], [5], [5], [6], [5], [1], [5,6], [5], [2], [2], [4], [4], [2], [3], [4], [4], [6], [4], [2], [6], [3], [3], [2], [6], [1], [2], [4], [2], [2], [3], [3], [4], [6], \n",
    "[3,4,6], [4], [4,6], [3], [4,5,6], [5], [6,4,5], [2], [5], [5], [4], [5], [3], [5], [5], [6], [2], [4], [2], [5], [1,2,3,4,5,6], \n",
    "[5], [2], [3,4,5], [6], [5], [1], [1], [2], [3], [1,3,2], [1,3,4], [2,3,4], [2,3,4], [2,3], [6], [3], [1], [4], [3], [1], [1], [1], [4], [3], [1], [2], [3], [2], [3], \n",
    "[1], [2], [2], [3], [2], [3], [2], [3], [3], [3], [2], [2], [1], [4,5,6], [6], [1,2,5], [5], [1], [1], [1], [1], [2], [3], [3], [1], [1], [1], [3], [5], [5], [2], [1], [3], [3], [5], [2,4,5],\n",
    "[3], [4], [4], [4], [5], [3], [2], [2], [3], [2], [1], [1], [1], [1], [2], [4], [5], [6], [4], [4], [6], [6], [4], [6], [4], [5], [2], [4], [2], [1], [2], [1], [3], [3], [6], [5], [5], [2],\n",
    "[1], [2,3,4,5,6], [6], [5], [5], [3], [3], [5], [5], [4], [6], [4], [3], [5], [5], [5], [5], [5], [3], [1], [4], [5], [2], [3], [5], [1],\n",
    "[4], [5], [5], [3], [1], [3], [1], [5], [3], [4], [2,3,4,5], [2], [1], [1], [5], [5],\n",
    "[4], [5], [3], [3], [2], [5], [6], [1], [4], [6], [1,3,2,4], [2,3,4], [2,4,3,5],\n",
    "[2,4,5], [3], [1], [1], [1], [4], [1], [5], [5],\n",
    "[3], [2,4,5,6], [1]] \n",
    "\n",
    "df['string'] = string_number\n",
    "df.head()"
   ]
  },
  {
   "cell_type": "markdown",
   "id": "15b8bd99",
   "metadata": {},
   "source": [
    "Para o processo de segmentação automática torna-se necessário uma coluna com distâncias temporais entre ataques da pauta inferior (staff_id = down). Isso pode ser obtido subtraindo-se os onsets de eventos sucessivos da pauta inferior. Para os eventos das outras pautas acrescentamos o valor 0, apenas para completar a coluna (esses dados não serão usados). Acrescenta-se 0 também para o primeiro evento da pauta inferior, uma vez que não há distância de nada anterior."
   ]
  },
  {
   "cell_type": "code",
   "execution_count": 11,
   "id": "3710a44f",
   "metadata": {},
   "outputs": [
    {
     "data": {
      "text/html": [
       "<div>\n",
       "<style scoped>\n",
       "    .dataframe tbody tr th:only-of-type {\n",
       "        vertical-align: middle;\n",
       "    }\n",
       "\n",
       "    .dataframe tbody tr th {\n",
       "        vertical-align: top;\n",
       "    }\n",
       "\n",
       "    .dataframe thead th {\n",
       "        text-align: right;\n",
       "    }\n",
       "</style>\n",
       "<table border=\"1\" class=\"dataframe\">\n",
       "  <thead>\n",
       "    <tr style=\"text-align: right;\">\n",
       "      <th></th>\n",
       "      <th>pitches</th>\n",
       "      <th>onsets</th>\n",
       "      <th>durations</th>\n",
       "      <th>notes</th>\n",
       "      <th>staff_id</th>\n",
       "      <th>string</th>\n",
       "    </tr>\n",
       "  </thead>\n",
       "  <tbody>\n",
       "    <tr>\n",
       "      <th>1</th>\n",
       "      <td>[66]</td>\n",
       "      <td>616</td>\n",
       "      <td>307</td>\n",
       "      <td>[f#4]</td>\n",
       "      <td>down</td>\n",
       "      <td>[5]</td>\n",
       "    </tr>\n",
       "    <tr>\n",
       "      <th>2</th>\n",
       "      <td>[66]</td>\n",
       "      <td>1548</td>\n",
       "      <td>304</td>\n",
       "      <td>[f#4]</td>\n",
       "      <td>down</td>\n",
       "      <td>[5]</td>\n",
       "    </tr>\n",
       "    <tr>\n",
       "      <th>4</th>\n",
       "      <td>[66]</td>\n",
       "      <td>6818</td>\n",
       "      <td>142</td>\n",
       "      <td>[f#4]</td>\n",
       "      <td>down</td>\n",
       "      <td>[5]</td>\n",
       "    </tr>\n",
       "    <tr>\n",
       "      <th>5</th>\n",
       "      <td>[68]</td>\n",
       "      <td>6960</td>\n",
       "      <td>142</td>\n",
       "      <td>[g#4]</td>\n",
       "      <td>down</td>\n",
       "      <td>[5]</td>\n",
       "    </tr>\n",
       "    <tr>\n",
       "      <th>6</th>\n",
       "      <td>[71]</td>\n",
       "      <td>7111</td>\n",
       "      <td>139</td>\n",
       "      <td>[b4]</td>\n",
       "      <td>down</td>\n",
       "      <td>[2]</td>\n",
       "    </tr>\n",
       "  </tbody>\n",
       "</table>\n",
       "</div>"
      ],
      "text/plain": [
       "  pitches  onsets  durations  notes staff_id string\n",
       "1    [66]     616        307  [f#4]     down    [5]\n",
       "2    [66]    1548        304  [f#4]     down    [5]\n",
       "4    [66]    6818        142  [f#4]     down    [5]\n",
       "5    [68]    6960        142  [g#4]     down    [5]\n",
       "6    [71]    7111        139   [b4]     down    [2]"
      ]
     },
     "execution_count": 11,
     "metadata": {},
     "output_type": "execute_result"
    }
   ],
   "source": [
    "## separar pauta 3\n",
    "st3 = df.loc[df.staff_id=='down']\n",
    "st3.head()"
   ]
  },
  {
   "cell_type": "code",
   "execution_count": 12,
   "id": "4031cac6",
   "metadata": {},
   "outputs": [
    {
     "data": {
      "text/html": [
       "<div>\n",
       "<style scoped>\n",
       "    .dataframe tbody tr th:only-of-type {\n",
       "        vertical-align: middle;\n",
       "    }\n",
       "\n",
       "    .dataframe tbody tr th {\n",
       "        vertical-align: top;\n",
       "    }\n",
       "\n",
       "    .dataframe thead th {\n",
       "        text-align: right;\n",
       "    }\n",
       "</style>\n",
       "<table border=\"1\" class=\"dataframe\">\n",
       "  <thead>\n",
       "    <tr style=\"text-align: right;\">\n",
       "      <th></th>\n",
       "      <th>pitches</th>\n",
       "      <th>onsets</th>\n",
       "      <th>durations</th>\n",
       "      <th>notes</th>\n",
       "      <th>staff_id</th>\n",
       "      <th>string</th>\n",
       "      <th>st3_dist_atk</th>\n",
       "    </tr>\n",
       "  </thead>\n",
       "  <tbody>\n",
       "    <tr>\n",
       "      <th>0</th>\n",
       "      <td>[90]</td>\n",
       "      <td>0</td>\n",
       "      <td>4432</td>\n",
       "      <td>[f#6]</td>\n",
       "      <td>center</td>\n",
       "      <td>[4]</td>\n",
       "      <td>0</td>\n",
       "    </tr>\n",
       "    <tr>\n",
       "      <th>1</th>\n",
       "      <td>[66]</td>\n",
       "      <td>616</td>\n",
       "      <td>307</td>\n",
       "      <td>[f#4]</td>\n",
       "      <td>down</td>\n",
       "      <td>[5]</td>\n",
       "      <td>0</td>\n",
       "    </tr>\n",
       "    <tr>\n",
       "      <th>2</th>\n",
       "      <td>[66]</td>\n",
       "      <td>1548</td>\n",
       "      <td>304</td>\n",
       "      <td>[f#4]</td>\n",
       "      <td>down</td>\n",
       "      <td>[5]</td>\n",
       "      <td>932</td>\n",
       "    </tr>\n",
       "    <tr>\n",
       "      <th>3</th>\n",
       "      <td>[74]</td>\n",
       "      <td>4432</td>\n",
       "      <td>3940</td>\n",
       "      <td>[d5]</td>\n",
       "      <td>center</td>\n",
       "      <td>[4]</td>\n",
       "      <td>0</td>\n",
       "    </tr>\n",
       "    <tr>\n",
       "      <th>4</th>\n",
       "      <td>[66]</td>\n",
       "      <td>6818</td>\n",
       "      <td>142</td>\n",
       "      <td>[f#4]</td>\n",
       "      <td>down</td>\n",
       "      <td>[5]</td>\n",
       "      <td>5270</td>\n",
       "    </tr>\n",
       "  </tbody>\n",
       "</table>\n",
       "</div>"
      ],
      "text/plain": [
       "  pitches  onsets  durations  notes staff_id string  st3_dist_atk\n",
       "0    [90]       0       4432  [f#6]   center    [4]             0\n",
       "1    [66]     616        307  [f#4]     down    [5]             0\n",
       "2    [66]    1548        304  [f#4]     down    [5]           932\n",
       "3    [74]    4432       3940   [d5]   center    [4]             0\n",
       "4    [66]    6818        142  [f#4]     down    [5]          5270"
      ]
     },
     "execution_count": 12,
     "metadata": {},
     "output_type": "execute_result"
    }
   ],
   "source": [
    "## calcular dist_atk para st3 apenas e criar nova coluna (0 para demais valores)\n",
    "onsets = st3.onsets\n",
    "st3_dist_atk_array = onsets[1:].array - onsets[:-1].array\n",
    "st3_dist = np.concatenate([np.array([0]), st3_dist_atk_array])\n",
    "\n",
    "df['st3_dist_atk'] = [0]*268\n",
    "df.iloc[st3.index, -1] = st3_dist\n",
    "\n",
    "df.head()"
   ]
  },
  {
   "cell_type": "markdown",
   "id": "4d27fbf0",
   "metadata": {},
   "source": [
    "Ainda para o processo de segmentação automática torna-se necessário uma coluna com as pausas entre os eventos da pauta inferior. As pausas podem ser obtidas pela diferença entre as distância entre ataques e as durações dos eventos da pauta inferior (as distâncias entre ataques incluem as durações dos eventos e as pausas separadoras)."
   ]
  },
  {
   "cell_type": "code",
   "execution_count": 13,
   "id": "c7fde940",
   "metadata": {},
   "outputs": [
    {
     "data": {
      "text/html": [
       "<div>\n",
       "<style scoped>\n",
       "    .dataframe tbody tr th:only-of-type {\n",
       "        vertical-align: middle;\n",
       "    }\n",
       "\n",
       "    .dataframe tbody tr th {\n",
       "        vertical-align: top;\n",
       "    }\n",
       "\n",
       "    .dataframe thead th {\n",
       "        text-align: right;\n",
       "    }\n",
       "</style>\n",
       "<table border=\"1\" class=\"dataframe\">\n",
       "  <thead>\n",
       "    <tr style=\"text-align: right;\">\n",
       "      <th></th>\n",
       "      <th>pitches</th>\n",
       "      <th>onsets</th>\n",
       "      <th>durations</th>\n",
       "      <th>notes</th>\n",
       "      <th>staff_id</th>\n",
       "      <th>string</th>\n",
       "      <th>st3_dist_atk</th>\n",
       "      <th>st3_rests</th>\n",
       "    </tr>\n",
       "  </thead>\n",
       "  <tbody>\n",
       "    <tr>\n",
       "      <th>0</th>\n",
       "      <td>[90]</td>\n",
       "      <td>0</td>\n",
       "      <td>4432</td>\n",
       "      <td>[f#6]</td>\n",
       "      <td>center</td>\n",
       "      <td>[4]</td>\n",
       "      <td>0</td>\n",
       "      <td>0</td>\n",
       "    </tr>\n",
       "    <tr>\n",
       "      <th>1</th>\n",
       "      <td>[66]</td>\n",
       "      <td>616</td>\n",
       "      <td>307</td>\n",
       "      <td>[f#4]</td>\n",
       "      <td>down</td>\n",
       "      <td>[5]</td>\n",
       "      <td>0</td>\n",
       "      <td>625</td>\n",
       "    </tr>\n",
       "    <tr>\n",
       "      <th>2</th>\n",
       "      <td>[66]</td>\n",
       "      <td>1548</td>\n",
       "      <td>304</td>\n",
       "      <td>[f#4]</td>\n",
       "      <td>down</td>\n",
       "      <td>[5]</td>\n",
       "      <td>932</td>\n",
       "      <td>4966</td>\n",
       "    </tr>\n",
       "    <tr>\n",
       "      <th>3</th>\n",
       "      <td>[74]</td>\n",
       "      <td>4432</td>\n",
       "      <td>3940</td>\n",
       "      <td>[d5]</td>\n",
       "      <td>center</td>\n",
       "      <td>[4]</td>\n",
       "      <td>0</td>\n",
       "      <td>0</td>\n",
       "    </tr>\n",
       "    <tr>\n",
       "      <th>4</th>\n",
       "      <td>[66]</td>\n",
       "      <td>6818</td>\n",
       "      <td>142</td>\n",
       "      <td>[f#4]</td>\n",
       "      <td>down</td>\n",
       "      <td>[5]</td>\n",
       "      <td>5270</td>\n",
       "      <td>0</td>\n",
       "    </tr>\n",
       "  </tbody>\n",
       "</table>\n",
       "</div>"
      ],
      "text/plain": [
       "  pitches  onsets  durations  notes staff_id string  st3_dist_atk  st3_rests\n",
       "0    [90]       0       4432  [f#6]   center    [4]             0          0\n",
       "1    [66]     616        307  [f#4]     down    [5]             0        625\n",
       "2    [66]    1548        304  [f#4]     down    [5]           932       4966\n",
       "3    [74]    4432       3940   [d5]   center    [4]             0          0\n",
       "4    [66]    6818        142  [f#4]     down    [5]          5270          0"
      ]
     },
     "execution_count": 13,
     "metadata": {},
     "output_type": "execute_result"
    }
   ],
   "source": [
    "filt = (df['staff_id'] == 'down')\n",
    "pos = df[filt].index.array\n",
    "\n",
    "dx = df.iloc[pos[1:]]['st3_dist_atk'].array - df.iloc[pos[:-1]]['durations'].array\n",
    "\n",
    "df['st3_rests'] = pd.Series([0]*268)\n",
    "df.loc[pos[:-1],'st3_rests'] = dx\n",
    "\n",
    "df.head()"
   ]
  },
  {
   "cell_type": "markdown",
   "id": "a2eb37d1",
   "metadata": {},
   "source": [
    "Como passo final, salva-se o DataFrame como arquivo no formato .csv"
   ]
  },
  {
   "cell_type": "code",
   "execution_count": 14,
   "id": "0e750952",
   "metadata": {},
   "outputs": [],
   "source": [
    "df.to_csv('mov1_data.csv', index=False)"
   ]
  }
 ],
 "metadata": {
  "kernelspec": {
   "display_name": "Python 3 (ipykernel)",
   "language": "python",
   "name": "python3"
  },
  "language_info": {
   "codemirror_mode": {
    "name": "ipython",
    "version": 3
   },
   "file_extension": ".py",
   "mimetype": "text/x-python",
   "name": "python",
   "nbconvert_exporter": "python",
   "pygments_lexer": "ipython3",
   "version": "3.10.4"
  }
 },
 "nbformat": 4,
 "nbformat_minor": 5
}
